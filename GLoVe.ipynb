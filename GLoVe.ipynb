{
  "nbformat": 4,
  "nbformat_minor": 0,
  "metadata": {
    "colab": {
      "name": "GLoVe.ipynb",
      "provenance": [],
      "collapsed_sections": [],
      "authorship_tag": "ABX9TyMGMDhlJZKOPI47l9jKetdZ",
      "include_colab_link": true
    },
    "kernelspec": {
      "name": "python3",
      "display_name": "Python 3"
    },
    "widgets": {
      "application/vnd.jupyter.widget-state+json": {
        "efbd50c6e6bd4857a2ee863df976f7c4": {
          "model_module": "@jupyter-widgets/controls",
          "model_name": "HBoxModel",
          "state": {
            "_view_name": "HBoxView",
            "_dom_classes": [],
            "_model_name": "HBoxModel",
            "_view_module": "@jupyter-widgets/controls",
            "_model_module_version": "1.5.0",
            "_view_count": null,
            "_view_module_version": "1.5.0",
            "box_style": "",
            "layout": "IPY_MODEL_c5cb73b1da6a42c79c6c44c2bcf2d5d7",
            "_model_module": "@jupyter-widgets/controls",
            "children": [
              "IPY_MODEL_6c57ec03034e49758324c2dd0cab9dc5",
              "IPY_MODEL_374b44c91436498fba45b8f4642dfd2e"
            ]
          }
        },
        "c5cb73b1da6a42c79c6c44c2bcf2d5d7": {
          "model_module": "@jupyter-widgets/base",
          "model_name": "LayoutModel",
          "state": {
            "_view_name": "LayoutView",
            "grid_template_rows": null,
            "right": null,
            "justify_content": null,
            "_view_module": "@jupyter-widgets/base",
            "overflow": null,
            "_model_module_version": "1.2.0",
            "_view_count": null,
            "flex_flow": null,
            "width": null,
            "min_width": null,
            "border": null,
            "align_items": null,
            "bottom": null,
            "_model_module": "@jupyter-widgets/base",
            "top": null,
            "grid_column": null,
            "overflow_y": null,
            "overflow_x": null,
            "grid_auto_flow": null,
            "grid_area": null,
            "grid_template_columns": null,
            "flex": null,
            "_model_name": "LayoutModel",
            "justify_items": null,
            "grid_row": null,
            "max_height": null,
            "align_content": null,
            "visibility": null,
            "align_self": null,
            "height": null,
            "min_height": null,
            "padding": null,
            "grid_auto_rows": null,
            "grid_gap": null,
            "max_width": null,
            "order": null,
            "_view_module_version": "1.2.0",
            "grid_template_areas": null,
            "object_position": null,
            "object_fit": null,
            "grid_auto_columns": null,
            "margin": null,
            "display": null,
            "left": null
          }
        },
        "6c57ec03034e49758324c2dd0cab9dc5": {
          "model_module": "@jupyter-widgets/controls",
          "model_name": "IntProgressModel",
          "state": {
            "_view_name": "ProgressView",
            "style": "IPY_MODEL_d522b0c39d4a47029a2b5e9e1973ae47",
            "_dom_classes": [],
            "description": "100%",
            "_model_name": "IntProgressModel",
            "bar_style": "success",
            "max": 87773,
            "_view_module": "@jupyter-widgets/controls",
            "_model_module_version": "1.5.0",
            "value": 87773,
            "_view_count": null,
            "_view_module_version": "1.5.0",
            "orientation": "horizontal",
            "min": 0,
            "description_tooltip": null,
            "_model_module": "@jupyter-widgets/controls",
            "layout": "IPY_MODEL_e8877d7486ba40728bb44e078193f8d9"
          }
        },
        "374b44c91436498fba45b8f4642dfd2e": {
          "model_module": "@jupyter-widgets/controls",
          "model_name": "HTMLModel",
          "state": {
            "_view_name": "HTMLView",
            "style": "IPY_MODEL_cb0bc5ae7f5d4a399f6d0742a742a567",
            "_dom_classes": [],
            "description": "",
            "_model_name": "HTMLModel",
            "placeholder": "​",
            "_view_module": "@jupyter-widgets/controls",
            "_model_module_version": "1.5.0",
            "value": " 87773/87773 [16:28&lt;00:00, 88.83it/s]",
            "_view_count": null,
            "_view_module_version": "1.5.0",
            "description_tooltip": null,
            "_model_module": "@jupyter-widgets/controls",
            "layout": "IPY_MODEL_5c5b207b489c44208e8375d63811dc1d"
          }
        },
        "d522b0c39d4a47029a2b5e9e1973ae47": {
          "model_module": "@jupyter-widgets/controls",
          "model_name": "ProgressStyleModel",
          "state": {
            "_view_name": "StyleView",
            "_model_name": "ProgressStyleModel",
            "description_width": "initial",
            "_view_module": "@jupyter-widgets/base",
            "_model_module_version": "1.5.0",
            "_view_count": null,
            "_view_module_version": "1.2.0",
            "bar_color": null,
            "_model_module": "@jupyter-widgets/controls"
          }
        },
        "e8877d7486ba40728bb44e078193f8d9": {
          "model_module": "@jupyter-widgets/base",
          "model_name": "LayoutModel",
          "state": {
            "_view_name": "LayoutView",
            "grid_template_rows": null,
            "right": null,
            "justify_content": null,
            "_view_module": "@jupyter-widgets/base",
            "overflow": null,
            "_model_module_version": "1.2.0",
            "_view_count": null,
            "flex_flow": null,
            "width": null,
            "min_width": null,
            "border": null,
            "align_items": null,
            "bottom": null,
            "_model_module": "@jupyter-widgets/base",
            "top": null,
            "grid_column": null,
            "overflow_y": null,
            "overflow_x": null,
            "grid_auto_flow": null,
            "grid_area": null,
            "grid_template_columns": null,
            "flex": null,
            "_model_name": "LayoutModel",
            "justify_items": null,
            "grid_row": null,
            "max_height": null,
            "align_content": null,
            "visibility": null,
            "align_self": null,
            "height": null,
            "min_height": null,
            "padding": null,
            "grid_auto_rows": null,
            "grid_gap": null,
            "max_width": null,
            "order": null,
            "_view_module_version": "1.2.0",
            "grid_template_areas": null,
            "object_position": null,
            "object_fit": null,
            "grid_auto_columns": null,
            "margin": null,
            "display": null,
            "left": null
          }
        },
        "cb0bc5ae7f5d4a399f6d0742a742a567": {
          "model_module": "@jupyter-widgets/controls",
          "model_name": "DescriptionStyleModel",
          "state": {
            "_view_name": "StyleView",
            "_model_name": "DescriptionStyleModel",
            "description_width": "",
            "_view_module": "@jupyter-widgets/base",
            "_model_module_version": "1.5.0",
            "_view_count": null,
            "_view_module_version": "1.2.0",
            "_model_module": "@jupyter-widgets/controls"
          }
        },
        "5c5b207b489c44208e8375d63811dc1d": {
          "model_module": "@jupyter-widgets/base",
          "model_name": "LayoutModel",
          "state": {
            "_view_name": "LayoutView",
            "grid_template_rows": null,
            "right": null,
            "justify_content": null,
            "_view_module": "@jupyter-widgets/base",
            "overflow": null,
            "_model_module_version": "1.2.0",
            "_view_count": null,
            "flex_flow": null,
            "width": null,
            "min_width": null,
            "border": null,
            "align_items": null,
            "bottom": null,
            "_model_module": "@jupyter-widgets/base",
            "top": null,
            "grid_column": null,
            "overflow_y": null,
            "overflow_x": null,
            "grid_auto_flow": null,
            "grid_area": null,
            "grid_template_columns": null,
            "flex": null,
            "_model_name": "LayoutModel",
            "justify_items": null,
            "grid_row": null,
            "max_height": null,
            "align_content": null,
            "visibility": null,
            "align_self": null,
            "height": null,
            "min_height": null,
            "padding": null,
            "grid_auto_rows": null,
            "grid_gap": null,
            "max_width": null,
            "order": null,
            "_view_module_version": "1.2.0",
            "grid_template_areas": null,
            "object_position": null,
            "object_fit": null,
            "grid_auto_columns": null,
            "margin": null,
            "display": null,
            "left": null
          }
        }
      }
    }
  },
  "cells": [
    {
      "cell_type": "markdown",
      "metadata": {
        "id": "view-in-github",
        "colab_type": "text"
      },
      "source": [
        "<a href=\"https://colab.research.google.com/github/VinitSR7/GLoVe-Implementation/blob/master/GLoVe.ipynb\" target=\"_parent\"><img src=\"https://colab.research.google.com/assets/colab-badge.svg\" alt=\"Open In Colab\"/></a>"
      ]
    },
    {
      "cell_type": "code",
      "metadata": {
        "id": "AkpgOvTiYaLl",
        "colab_type": "code",
        "colab": {}
      },
      "source": [
        "%matplotlib inline\n",
        "import warnings\n",
        "warnings.filterwarnings(\"ignore\")\n",
        "\n",
        "import pickle\n",
        "import pandas as pd\n",
        "import numpy as np\n",
        "from sklearn.feature_extraction.text import TfidfVectorizer"
      ],
      "execution_count": 0,
      "outputs": []
    },
    {
      "cell_type": "code",
      "metadata": {
        "id": "rCLZEdFNbDuh",
        "colab_type": "code",
        "colab": {}
      },
      "source": [
        "with open(\"preprocessedtext.txt\", \"rb\") as fp:   \n",
        "...   preprocessedText = pickle.load(fp)"
      ],
      "execution_count": 0,
      "outputs": []
    },
    {
      "cell_type": "markdown",
      "metadata": {
        "id": "w_VT5FQjcLm_",
        "colab_type": "text"
      },
      "source": [
        "- I will be using the \"text\" Data of the Amazon Fine Food Reviews Dataset.\n",
        "- I preprocessed the Text saved it as preprocessedtext.txt, and using it as my dataset\n",
        "- it is the list of sentencsa"
      ]
    },
    {
      "cell_type": "code",
      "metadata": {
        "id": "fesrhwcbb9y8",
        "colab_type": "code",
        "colab": {
          "base_uri": "https://localhost:8080/",
          "height": 69
        },
        "outputId": "d649ce33-f911-4e22-e083-eaf47b10eb33"
      },
      "source": [
        "type(preprocessedText), type(preprocessedText[0]), preprocessedText[0]"
      ],
      "execution_count": 11,
      "outputs": [
        {
          "output_type": "execute_result",
          "data": {
            "text/plain": [
              "(list,\n",
              " str,\n",
              " 'dogs loves chicken product china wont buying anymore hard find chicken products made usa one isnt bad good product wont take chances till know going china imports')"
            ]
          },
          "metadata": {
            "tags": []
          },
          "execution_count": 11
        }
      ]
    },
    {
      "cell_type": "markdown",
      "metadata": {
        "id": "uUTn-fO3dzGJ",
        "colab_type": "text"
      },
      "source": [
        "### Using Tf-Idf Vectorizer"
      ]
    },
    {
      "cell_type": "code",
      "metadata": {
        "id": "Ulvzz3J6dUp8",
        "colab_type": "code",
        "colab": {
          "base_uri": "https://localhost:8080/",
          "height": 52
        },
        "outputId": "6bbaa38b-c5ee-4041-eac7-112d7623cd16"
      },
      "source": [
        "tf_idf_vect = TfidfVectorizer(min_df=3)\n",
        "X = tf_idf_vect.fit_transform(preprocessedText)\n",
        "print(\"some sample features(unique words in the corpus)\",tf_idf_vect.get_feature_names()[0:10])\n",
        "print('='*50)"
      ],
      "execution_count": 62,
      "outputs": [
        {
          "output_type": "stream",
          "text": [
            "some sample features(unique words in the corpus) ['aa', 'aaa', 'aaaa', 'aafco', 'ab', 'aback', 'abandon', 'abandoned', 'abandoning', 'abbott']\n",
            "==================================================\n"
          ],
          "name": "stdout"
        }
      ]
    },
    {
      "cell_type": "code",
      "metadata": {
        "id": "xmwv875ChqS4",
        "colab_type": "code",
        "colab": {
          "base_uri": "https://localhost:8080/",
          "height": 34
        },
        "outputId": "a1291081-9642-4d58-cd21-4f7c1062c516"
      },
      "source": [
        "len(tf_idf_vect.get_feature_names())"
      ],
      "execution_count": 63,
      "outputs": [
        {
          "output_type": "execute_result",
          "data": {
            "text/plain": [
              "21886"
            ]
          },
          "metadata": {
            "tags": []
          },
          "execution_count": 63
        }
      ]
    },
    {
      "cell_type": "code",
      "metadata": {
        "id": "RcE-luRhdZS2",
        "colab_type": "code",
        "colab": {}
      },
      "source": [
        "# Let's normalize the data first\n",
        "from sklearn import preprocessing\n",
        "X = preprocessing.normalize(X)"
      ],
      "execution_count": 0,
      "outputs": []
    },
    {
      "cell_type": "markdown",
      "metadata": {
        "id": "9J6ObJ9dCha_",
        "colab_type": "text"
      },
      "source": [
        "## Truncated-SVD"
      ]
    },
    {
      "cell_type": "markdown",
      "metadata": {
        "id": "MkBTVWfDChbA",
        "colab_type": "text"
      },
      "source": [
        "### Taking top features from TFIDF"
      ]
    },
    {
      "cell_type": "code",
      "metadata": {
        "id": "cKI44V1HChbB",
        "colab_type": "code",
        "colab": {}
      },
      "source": [
        "feature_names = tf_idf_vect.get_feature_names()\n",
        "idfscore = tf_idf_vect.idf_"
      ],
      "execution_count": 0,
      "outputs": []
    },
    {
      "cell_type": "code",
      "metadata": {
        "id": "G6zjllyMFInO",
        "colab_type": "code",
        "outputId": "af9f8914-dcb5-4342-c7d7-ae9f3923897b",
        "colab": {
          "base_uri": "https://localhost:8080/",
          "height": 34
        }
      },
      "source": [
        "#https://stackoverflow.com/questions/41445593/how-to-reverse-last-n-elements-of-list-in-python\n",
        "\n",
        "idfscore_feat =zip(idfscore,feature_names) \n",
        "# Taking top 10000 features\n",
        "top_features_sorted = sorted(idfscore_feat)\n",
        "top_features_sorted = top_features_sorted[:-10001:-1]\n",
        "len(top_features_sorted)"
      ],
      "execution_count": 91,
      "outputs": [
        {
          "output_type": "execute_result",
          "data": {
            "text/plain": [
              "10000"
            ]
          },
          "metadata": {
            "tags": []
          },
          "execution_count": 91
        }
      ]
    },
    {
      "cell_type": "code",
      "metadata": {
        "id": "m6p4MXl0Vi7P",
        "colab_type": "code",
        "outputId": "70afe341-5505-4003-8419-b711a56641ee",
        "colab": {
          "base_uri": "https://localhost:8080/",
          "height": 34
        }
      },
      "source": [
        "top_words = [] \n",
        "for i in range(len(top_features_sorted)):\n",
        "    top_words.append(top_features_sorted[i][1])\n",
        "print(top_words[:10])"
      ],
      "execution_count": 92,
      "outputs": [
        {
          "output_type": "stream",
          "text": [
            "['zsweet', 'zp', 'zotz', 'zon', 'zombies', 'zola', 'zoji', 'ziyad', 'zipp', 'zinging']\n"
          ],
          "name": "stdout"
        }
      ]
    },
    {
      "cell_type": "markdown",
      "metadata": {
        "id": "PiC8j4H4ChbF",
        "colab_type": "text"
      },
      "source": [
        "### [5.2] Calulation of Co-occurrence matrix"
      ]
    },
    {
      "cell_type": "code",
      "metadata": {
        "id": "y0arBDQtChbG",
        "colab_type": "code",
        "colab": {}
      },
      "source": [
        "cooccurrenceMatrix = np.zeros((10000,10000)) \n",
        "context_window = 5"
      ],
      "execution_count": 0,
      "outputs": []
    },
    {
      "cell_type": "code",
      "metadata": {
        "id": "vDJBh9O24Clx",
        "colab_type": "code",
        "outputId": "b240863c-4aaa-40ec-83a9-5d82d8b321ab",
        "colab": {
          "base_uri": "https://localhost:8080/",
          "height": 66,
          "referenced_widgets": [
            "efbd50c6e6bd4857a2ee863df976f7c4",
            "c5cb73b1da6a42c79c6c44c2bcf2d5d7",
            "6c57ec03034e49758324c2dd0cab9dc5",
            "374b44c91436498fba45b8f4642dfd2e",
            "d522b0c39d4a47029a2b5e9e1973ae47",
            "e8877d7486ba40728bb44e078193f8d9",
            "cb0bc5ae7f5d4a399f6d0742a742a567",
            "5c5b207b489c44208e8375d63811dc1d"
          ]
        }
      },
      "source": [
        "from tqdm.notebook import tqdm\n",
        "for sent in tqdm(preprocessedText):\n",
        "    word_ = sent.split() \n",
        "    for index,word in enumerate(word_): \n",
        "        if word in top_words: \n",
        "            for j in range(max(index - context_window,0),min(index + context_window , len(word_) - 1) + 1):\n",
        "                if word_[j] in top_words:\n",
        "                    if word_[j] != word:\n",
        "                        cooccurrenceMatrix[top_words.index(word)][top_words.index(word_[j])] += 1    \n",
        "                        cooccurrenceMatrix[top_words.index(word)][top_words.index(word_[j])] += 1                "
      ],
      "execution_count": 94,
      "outputs": [
        {
          "output_type": "display_data",
          "data": {
            "application/vnd.jupyter.widget-view+json": {
              "model_id": "efbd50c6e6bd4857a2ee863df976f7c4",
              "version_minor": 0,
              "version_major": 2
            },
            "text/plain": [
              "HBox(children=(IntProgress(value=0, max=87773), HTML(value='')))"
            ]
          },
          "metadata": {
            "tags": []
          }
        },
        {
          "output_type": "stream",
          "text": [
            "\n"
          ],
          "name": "stdout"
        }
      ]
    },
    {
      "cell_type": "markdown",
      "metadata": {
        "id": "epZjcmQEfULJ",
        "colab_type": "text"
      },
      "source": [
        "### Since GLoVe Vectors are of 384 dimensions, let's take 384 for our example too."
      ]
    },
    {
      "cell_type": "code",
      "metadata": {
        "id": "MLUYENtOg5Ms",
        "colab_type": "code",
        "colab": {}
      },
      "source": [
        "from sklearn.decomposition import TruncatedSVD"
      ],
      "execution_count": 0,
      "outputs": []
    },
    {
      "cell_type": "code",
      "metadata": {
        "id": "lTBL1ZkDfMiG",
        "colab_type": "code",
        "colab": {}
      },
      "source": [
        "svd = TruncatedSVD(n_components= 384)\n",
        "svd.fit(cooccurrenceMatrix)\n",
        "transformed_data = svd.transform(cooccurrenceMatrix)"
      ],
      "execution_count": 0,
      "outputs": []
    },
    {
      "cell_type": "markdown",
      "metadata": {
        "id": "2hAz1maihDXi",
        "colab_type": "text"
      },
      "source": [
        "### That's it"
      ]
    },
    {
      "cell_type": "markdown",
      "metadata": {
        "id": "jXT2kiRgChb0",
        "colab_type": "text"
      },
      "source": [
        "###  Function that returns most similar words for a given word."
      ]
    },
    {
      "cell_type": "code",
      "metadata": {
        "id": "IdTy3BRYChb1",
        "colab_type": "code",
        "colab": {}
      },
      "source": [
        "from sklearn.metrics.pairwise import cosine_similarity\n",
        "similarity_matrix = cosine_similarity(transformed_data) \n",
        "def find_similar_words(word, MAX = 20):\n",
        "    if word not in top_words:\n",
        "      print(\"Please input different word.\")\n",
        "      return\n",
        "    word_vec = similarity_matrix[top_words.index(word)]  \n",
        "    index = np.argsort(word_vec)  \n",
        "    similar_words = [] \n",
        "    for x in index[:-(MAX+1):-1]:\n",
        "      similar_words.append(top_words[x])\n",
        "    print(\"{0} most similar words to {0} are given below\".format(MAX,word))\n",
        "    print(similar_words)"
      ],
      "execution_count": 0,
      "outputs": []
    },
    {
      "cell_type": "code",
      "metadata": {
        "id": "2Asf16G3GpL9",
        "colab_type": "code",
        "outputId": "ca2661d7-ce7a-4b50-fe1d-4f927b635fba",
        "colab": {
          "base_uri": "https://localhost:8080/",
          "height": 52
        }
      },
      "source": [
        "find_similar_words('admin', 10)"
      ],
      "execution_count": 121,
      "outputs": [
        {
          "output_type": "stream",
          "text": [
            "10 most similar words to 10 are given below\n",
            "['admin', 'mop', 'eased', 'incur', 'ted', 'dices', 'backorder', 'dormant', 'pinky', 'overfed']\n"
          ],
          "name": "stdout"
        }
      ]
    },
    {
      "cell_type": "code",
      "metadata": {
        "id": "ZZsNp6f6oKC6",
        "colab_type": "code",
        "colab": {
          "base_uri": "https://localhost:8080/",
          "height": 34
        },
        "outputId": "05422863-a6e2-4bb4-f790-d3519fcef409"
      },
      "source": [
        "len(top_words)"
      ],
      "execution_count": 90,
      "outputs": [
        {
          "output_type": "execute_result",
          "data": {
            "text/plain": [
              "5000"
            ]
          },
          "metadata": {
            "tags": []
          },
          "execution_count": 90
        }
      ]
    },
    {
      "cell_type": "markdown",
      "metadata": {
        "id": "9YJZlxZ_im9F",
        "colab_type": "text"
      },
      "source": [
        "### Get numeric vector for a word"
      ]
    },
    {
      "cell_type": "code",
      "metadata": {
        "id": "weZJ3CfSimcH",
        "colab_type": "code",
        "colab": {
          "base_uri": "https://localhost:8080/",
          "height": 34
        },
        "outputId": "106fd826-0ba8-4e38-8abc-e6492e0a713e"
      },
      "source": [
        "word = \"borrow\"\n",
        "vector = transformed_data[top_words.index(word)]\n",
        "len(vector)"
      ],
      "execution_count": 108,
      "outputs": [
        {
          "output_type": "execute_result",
          "data": {
            "text/plain": [
              "384"
            ]
          },
          "metadata": {
            "tags": []
          },
          "execution_count": 108
        }
      ]
    }
  ]
}